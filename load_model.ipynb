{
 "cells": [
  {
   "cell_type": "markdown",
   "metadata": {},
   "source": [
    "# Imports"
   ]
  },
  {
   "cell_type": "code",
   "execution_count": null,
   "metadata": {},
   "outputs": [],
   "source": [
    "import os\n",
    "import torch\n",
    "import pandas as pd\n",
    "import numpy as np\n",
    "import torchvision\n",
    "import torch.nn as nn\n",
    "from torch.utils.data import Dataset, random_split, DataLoader\n",
    "import matplotlib.pyplot as plt\n",
    "import torch.nn.functional as F\n",
    "from torchvision.utils import make_grid\n",
    "from torchvision.datasets import ImageFolder\n",
    "import torchvision.transforms as transforms\n",
    "import torchvision.models as models\n",
    "from PIL import Image\n",
    "from collections import OrderedDict\n",
    "import glob\n",
    "\n",
    "%matplotlib inline"
   ]
  },
  {
   "cell_type": "markdown",
   "metadata": {},
   "source": [
    "# Inits"
   ]
  },
  {
   "cell_type": "code",
   "execution_count": null,
   "metadata": {},
   "outputs": [],
   "source": [
    "PATH = 'dog-breed-classifier-wideresnet_with_data_aug.pth'"
   ]
  },
  {
   "cell_type": "code",
   "execution_count": null,
   "metadata": {},
   "outputs": [],
   "source": [
    "inference_transform = transforms.Compose([\n",
    "    transforms.Resize((168,168)), \n",
    "    transforms.ToTensor(),\n",
    "])"
   ]
  },
  {
   "cell_type": "code",
   "execution_count": null,
   "metadata": {},
   "outputs": [],
   "source": [
    "class ImageClassificationBase(nn.Module):\n",
    "    # training step\n",
    "    def training_step(self, batch):\n",
    "        img, targets = batch\n",
    "        out = self(img)\n",
    "        loss = F.nll_loss(out, targets)\n",
    "        return loss\n",
    "    \n",
    "    # validation step\n",
    "    def validation_step(self, batch):\n",
    "        img, targets = batch\n",
    "        out = self(img)\n",
    "        loss = F.nll_loss(out, targets)\n",
    "        acc = accuracy(out, targets)\n",
    "        return {'val_acc':acc.detach(), 'val_loss':loss.detach()}\n",
    "    \n",
    "    # validation epoch end\n",
    "    def validation_epoch_end(self, outputs):\n",
    "        batch_losses = [x['val_loss'] for x in outputs]\n",
    "        epoch_loss = torch.stack(batch_losses).mean()\n",
    "        batch_accs = [x['val_acc'] for x in outputs]\n",
    "        epoch_acc = torch.stack(batch_accs).mean()\n",
    "        return {'val_loss':epoch_loss.item(), 'val_acc':epoch_acc.item()}\n",
    "        \n",
    "    # print result end epoch\n",
    "    def epoch_end(self, epoch, result):\n",
    "        print(\"Epoch [{}] : train_loss: {:.4f}, val_loss: {:.4f}, val_acc: {:.4f}\".format(epoch, result[\"train_loss\"], result[\"val_loss\"], result[\"val_acc\"]))\n",
    "        \n",
    "        \n",
    "class DogBreedPretrainedWideResnet(ImageClassificationBase):\n",
    "    def __init__(self):\n",
    "        super().__init__()\n",
    "        \n",
    "        self.network = models.wide_resnet50_2(pretrained=True)\n",
    "        # Replace last layer\n",
    "        num_ftrs = self.network.fc.in_features\n",
    "        self.network.fc = nn.Sequential(\n",
    "            nn.Linear(num_ftrs, 120),\n",
    "            nn.LogSoftmax(dim=1)\n",
    "        )\n",
    "        \n",
    "    def forward(self, xb):\n",
    "        return self.network(xb)"
   ]
  },
  {
   "cell_type": "markdown",
   "metadata": {},
   "source": [
    "# Load"
   ]
  },
  {
   "cell_type": "code",
   "execution_count": null,
   "metadata": {},
   "outputs": [],
   "source": [
    "# load model\n",
    "model = DogBreedPretrainedWideResnet()\n",
    "model.load_state_dict(torch.load(PATH))\n",
    "model.eval()"
   ]
  },
  {
   "cell_type": "code",
   "execution_count": null,
   "metadata": {},
   "outputs": [],
   "source": [
    "# load list of breeds\n",
    "breeds = pd.read_csv('data/breeds.csv')"
   ]
  },
  {
   "cell_type": "markdown",
   "metadata": {},
   "source": [
    "# Inference"
   ]
  },
  {
   "cell_type": "code",
   "execution_count": null,
   "metadata": {},
   "outputs": [],
   "source": [
    "def predict_single(model, breeds, img):\n",
    "    \n",
    "    test_img = inference_transform(img)\n",
    "    output = model(test_img.unsqueeze(0))\n",
    "    prediction = output[0]\n",
    "    index = torch.max(prediction, dim=0)[-1].item()\n",
    "    label = breeds.loc[index].values[0]\n",
    "    \n",
    "    to_tensor = transforms.Compose([transforms.ToTensor()])\n",
    "    plt.imshow(to_tensor(img).permute(1,2,0))    \n",
    "    plt.show()\n",
    "    print('Predicted :', label)\n",
    "    \n",
    "    return"
   ]
  },
  {
   "cell_type": "code",
   "execution_count": null,
   "metadata": {},
   "outputs": [],
   "source": [
    "for f in glob.iglob(\"data/test/*\"):\n",
    "    test_image = Image.open(f)\n",
    "    predict_single(model, breeds, test_image)"
   ]
  },
  {
   "cell_type": "code",
   "execution_count": null,
   "metadata": {},
   "outputs": [],
   "source": [
    "breeds"
   ]
  }
 ],
 "metadata": {
  "kernelspec": {
   "display_name": "env39",
   "language": "python",
   "name": "env39"
  },
  "language_info": {
   "codemirror_mode": {
    "name": "ipython",
    "version": 3
   },
   "file_extension": ".py",
   "mimetype": "text/x-python",
   "name": "python",
   "nbconvert_exporter": "python",
   "pygments_lexer": "ipython3",
   "version": "3.9.16"
  }
 },
 "nbformat": 4,
 "nbformat_minor": 4
}
